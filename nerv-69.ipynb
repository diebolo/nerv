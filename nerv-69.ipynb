{
 "cells": [
  {
   "cell_type": "code",
   "execution_count": 1,
   "id": "48c3babc",
   "metadata": {
    "execution": {
     "iopub.execute_input": "2024-04-02T15:32:01.181560Z",
     "iopub.status.busy": "2024-04-02T15:32:01.181218Z",
     "iopub.status.idle": "2024-04-02T15:32:02.134034Z",
     "shell.execute_reply": "2024-04-02T15:32:02.133128Z"
    },
    "papermill": {
     "duration": 0.960048,
     "end_time": "2024-04-02T15:32:02.136443",
     "exception": false,
     "start_time": "2024-04-02T15:32:01.176395",
     "status": "completed"
    },
    "tags": []
   },
   "outputs": [
    {
     "name": "stdout",
     "output_type": "stream",
     "text": [
      "Python 3.10.13\r\n"
     ]
    }
   ],
   "source": [
    "!python --version"
   ]
  },
  {
   "cell_type": "code",
   "execution_count": 2,
   "id": "7e80bb18",
   "metadata": {
    "execution": {
     "iopub.execute_input": "2024-04-02T15:32:02.144422Z",
     "iopub.status.busy": "2024-04-02T15:32:02.144107Z",
     "iopub.status.idle": "2024-04-02T15:32:09.551908Z",
     "shell.execute_reply": "2024-04-02T15:32:09.550947Z"
    },
    "papermill": {
     "duration": 7.414197,
     "end_time": "2024-04-02T15:32:09.554195",
     "exception": false,
     "start_time": "2024-04-02T15:32:02.139998",
     "status": "completed"
    },
    "tags": []
   },
   "outputs": [
    {
     "name": "stdout",
     "output_type": "stream",
     "text": [
      "Cloning into 'nerv'...\r\n",
      "remote: Enumerating objects: 24, done.\u001b[K\r\n",
      "remote: Counting objects: 100% (12/12), done.\u001b[K\r\n",
      "remote: Compressing objects: 100% (10/10), done.\u001b[K\r\n",
      "remote: Total 24 (delta 1), reused 11 (delta 1), pack-reused 12\u001b[K\r\n",
      "Unpacking objects: 100% (24/24), 57.01 MiB | 10.64 MiB/s, done.\r\n"
     ]
    }
   ],
   "source": [
    "!git clone https://github.com/diebolo/nerv.git"
   ]
  },
  {
   "cell_type": "code",
   "execution_count": 3,
   "id": "f649f07d",
   "metadata": {
    "execution": {
     "iopub.execute_input": "2024-04-02T15:32:09.563215Z",
     "iopub.status.busy": "2024-04-02T15:32:09.562899Z",
     "iopub.status.idle": "2024-04-02T15:32:21.754107Z",
     "shell.execute_reply": "2024-04-02T15:32:21.752933Z"
    },
    "jupyter": {
     "source_hidden": true
    },
    "papermill": {
     "duration": 12.198758,
     "end_time": "2024-04-02T15:32:21.756821",
     "exception": false,
     "start_time": "2024-04-02T15:32:09.558063",
     "status": "completed"
    },
    "tags": []
   },
   "outputs": [
    {
     "name": "stdout",
     "output_type": "stream",
     "text": [
      "Cloning into 'NeRV'...\r\n",
      "remote: Enumerating objects: 222, done.\u001b[K\r\n",
      "remote: Counting objects: 100% (22/22), done.\u001b[K\r\n",
      "remote: Compressing objects: 100% (20/20), done.\u001b[K\r\n",
      "remote: Total 222 (delta 18), reused 2 (delta 2), pack-reused 200\u001b[K\r\n",
      "Receiving objects: 100% (222/222), 292.29 MiB | 38.65 MiB/s, done.\r\n",
      "Resolving deltas: 100% (45/45), done.\r\n",
      "Updating files: 100% (140/140), done.\r\n"
     ]
    }
   ],
   "source": [
    "!git clone https://github.com/haochen-rye/NeRV.git"
   ]
  },
  {
   "cell_type": "code",
   "execution_count": 4,
   "id": "e26fe40d",
   "metadata": {
    "execution": {
     "iopub.execute_input": "2024-04-02T15:32:21.781202Z",
     "iopub.status.busy": "2024-04-02T15:32:21.780510Z",
     "iopub.status.idle": "2024-04-02T15:32:22.743341Z",
     "shell.execute_reply": "2024-04-02T15:32:22.742178Z"
    },
    "papermill": {
     "duration": 0.977566,
     "end_time": "2024-04-02T15:32:22.745618",
     "exception": false,
     "start_time": "2024-04-02T15:32:21.768052",
     "status": "completed"
    },
    "tags": []
   },
   "outputs": [
    {
     "name": "stdout",
     "output_type": "stream",
     "text": [
      "\u001b[0m\u001b[01;34mNeRV\u001b[0m/  __notebook__.ipynb  \u001b[01;34mnerv\u001b[0m/\r\n"
     ]
    }
   ],
   "source": [
    "ls"
   ]
  },
  {
   "cell_type": "code",
   "execution_count": 5,
   "id": "55b2cd69",
   "metadata": {
    "execution": {
     "iopub.execute_input": "2024-04-02T15:32:22.768229Z",
     "iopub.status.busy": "2024-04-02T15:32:22.767457Z",
     "iopub.status.idle": "2024-04-02T15:32:22.773954Z",
     "shell.execute_reply": "2024-04-02T15:32:22.773027Z"
    },
    "papermill": {
     "duration": 0.020111,
     "end_time": "2024-04-02T15:32:22.775993",
     "exception": false,
     "start_time": "2024-04-02T15:32:22.755882",
     "status": "completed"
    },
    "tags": []
   },
   "outputs": [
    {
     "name": "stdout",
     "output_type": "stream",
     "text": [
      "/kaggle/working/nerv\n"
     ]
    }
   ],
   "source": [
    "cd nerv"
   ]
  },
  {
   "cell_type": "code",
   "execution_count": 6,
   "id": "420d3372",
   "metadata": {
    "execution": {
     "iopub.execute_input": "2024-04-02T15:32:22.797407Z",
     "iopub.status.busy": "2024-04-02T15:32:22.796846Z",
     "iopub.status.idle": "2024-04-02T15:32:36.648954Z",
     "shell.execute_reply": "2024-04-02T15:32:36.647948Z"
    },
    "papermill": {
     "duration": 13.865289,
     "end_time": "2024-04-02T15:32:36.651324",
     "exception": false,
     "start_time": "2024-04-02T15:32:22.786035",
     "status": "completed"
    },
    "tags": []
   },
   "outputs": [
    {
     "name": "stdout",
     "output_type": "stream",
     "text": [
      "Requirement already satisfied: torch in /opt/conda/lib/python3.10/site-packages (from -r requirements.txt (line 1)) (2.1.2)\r\n",
      "Requirement already satisfied: numpy in /opt/conda/lib/python3.10/site-packages (from -r requirements.txt (line 2)) (1.26.4)\r\n",
      "Collecting pytorch_msssim (from -r requirements.txt (line 3))\r\n",
      "  Downloading pytorch_msssim-1.0.0-py3-none-any.whl.metadata (8.0 kB)\r\n",
      "Requirement already satisfied: tqdm in /opt/conda/lib/python3.10/site-packages (from -r requirements.txt (line 4)) (4.66.1)\r\n",
      "Requirement already satisfied: torchvision in /opt/conda/lib/python3.10/site-packages (from -r requirements.txt (line 5)) (0.16.2)\r\n",
      "Collecting dahuffman (from -r requirements.txt (line 6))\r\n",
      "  Downloading dahuffman-0.4.1-py2.py3-none-any.whl.metadata (4.7 kB)\r\n",
      "Requirement already satisfied: Pillow in /opt/conda/lib/python3.10/site-packages (from -r requirements.txt (line 7)) (9.5.0)\r\n",
      "Collecting yaspin (from -r requirements.txt (line 8))\r\n",
      "  Downloading yaspin-3.0.1-py3-none-any.whl.metadata (14 kB)\r\n",
      "Requirement already satisfied: tensorboard in /opt/conda/lib/python3.10/site-packages (from -r requirements.txt (line 9)) (2.15.1)\r\n",
      "Requirement already satisfied: filelock in /opt/conda/lib/python3.10/site-packages (from torch->-r requirements.txt (line 1)) (3.13.1)\r\n",
      "Requirement already satisfied: typing-extensions in /opt/conda/lib/python3.10/site-packages (from torch->-r requirements.txt (line 1)) (4.9.0)\r\n",
      "Requirement already satisfied: sympy in /opt/conda/lib/python3.10/site-packages (from torch->-r requirements.txt (line 1)) (1.12)\r\n",
      "Requirement already satisfied: networkx in /opt/conda/lib/python3.10/site-packages (from torch->-r requirements.txt (line 1)) (3.2.1)\r\n",
      "Requirement already satisfied: jinja2 in /opt/conda/lib/python3.10/site-packages (from torch->-r requirements.txt (line 1)) (3.1.2)\r\n",
      "Requirement already satisfied: fsspec in /opt/conda/lib/python3.10/site-packages (from torch->-r requirements.txt (line 1)) (2024.2.0)\r\n",
      "Requirement already satisfied: requests in /opt/conda/lib/python3.10/site-packages (from torchvision->-r requirements.txt (line 5)) (2.31.0)\r\n",
      "Requirement already satisfied: termcolor<3.0,>=2.3 in /opt/conda/lib/python3.10/site-packages (from yaspin->-r requirements.txt (line 8)) (2.4.0)\r\n",
      "Requirement already satisfied: absl-py>=0.4 in /opt/conda/lib/python3.10/site-packages (from tensorboard->-r requirements.txt (line 9)) (1.4.0)\r\n",
      "Requirement already satisfied: grpcio>=1.48.2 in /opt/conda/lib/python3.10/site-packages (from tensorboard->-r requirements.txt (line 9)) (1.51.1)\r\n",
      "Requirement already satisfied: google-auth<3,>=1.6.3 in /opt/conda/lib/python3.10/site-packages (from tensorboard->-r requirements.txt (line 9)) (2.26.1)\r\n",
      "Requirement already satisfied: google-auth-oauthlib<2,>=0.5 in /opt/conda/lib/python3.10/site-packages (from tensorboard->-r requirements.txt (line 9)) (1.2.0)\r\n",
      "Requirement already satisfied: markdown>=2.6.8 in /opt/conda/lib/python3.10/site-packages (from tensorboard->-r requirements.txt (line 9)) (3.5.2)\r\n",
      "Requirement already satisfied: protobuf<4.24,>=3.19.6 in /opt/conda/lib/python3.10/site-packages (from tensorboard->-r requirements.txt (line 9)) (3.20.3)\r\n",
      "Requirement already satisfied: setuptools>=41.0.0 in /opt/conda/lib/python3.10/site-packages (from tensorboard->-r requirements.txt (line 9)) (69.0.3)\r\n",
      "Requirement already satisfied: six>1.9 in /opt/conda/lib/python3.10/site-packages (from tensorboard->-r requirements.txt (line 9)) (1.16.0)\r\n",
      "Requirement already satisfied: tensorboard-data-server<0.8.0,>=0.7.0 in /opt/conda/lib/python3.10/site-packages (from tensorboard->-r requirements.txt (line 9)) (0.7.2)\r\n",
      "Requirement already satisfied: werkzeug>=1.0.1 in /opt/conda/lib/python3.10/site-packages (from tensorboard->-r requirements.txt (line 9)) (3.0.1)\r\n",
      "Requirement already satisfied: cachetools<6.0,>=2.0.0 in /opt/conda/lib/python3.10/site-packages (from google-auth<3,>=1.6.3->tensorboard->-r requirements.txt (line 9)) (4.2.4)\r\n",
      "Requirement already satisfied: pyasn1-modules>=0.2.1 in /opt/conda/lib/python3.10/site-packages (from google-auth<3,>=1.6.3->tensorboard->-r requirements.txt (line 9)) (0.3.0)\r\n",
      "Requirement already satisfied: rsa<5,>=3.1.4 in /opt/conda/lib/python3.10/site-packages (from google-auth<3,>=1.6.3->tensorboard->-r requirements.txt (line 9)) (4.9)\r\n",
      "Requirement already satisfied: requests-oauthlib>=0.7.0 in /opt/conda/lib/python3.10/site-packages (from google-auth-oauthlib<2,>=0.5->tensorboard->-r requirements.txt (line 9)) (1.3.1)\r\n",
      "Requirement already satisfied: charset-normalizer<4,>=2 in /opt/conda/lib/python3.10/site-packages (from requests->torchvision->-r requirements.txt (line 5)) (3.3.2)\r\n",
      "Requirement already satisfied: idna<4,>=2.5 in /opt/conda/lib/python3.10/site-packages (from requests->torchvision->-r requirements.txt (line 5)) (3.6)\r\n",
      "Requirement already satisfied: urllib3<3,>=1.21.1 in /opt/conda/lib/python3.10/site-packages (from requests->torchvision->-r requirements.txt (line 5)) (1.26.18)\r\n",
      "Requirement already satisfied: certifi>=2017.4.17 in /opt/conda/lib/python3.10/site-packages (from requests->torchvision->-r requirements.txt (line 5)) (2024.2.2)\r\n",
      "Requirement already satisfied: MarkupSafe>=2.1.1 in /opt/conda/lib/python3.10/site-packages (from werkzeug>=1.0.1->tensorboard->-r requirements.txt (line 9)) (2.1.3)\r\n",
      "Requirement already satisfied: mpmath>=0.19 in /opt/conda/lib/python3.10/site-packages (from sympy->torch->-r requirements.txt (line 1)) (1.3.0)\r\n",
      "Requirement already satisfied: pyasn1<0.6.0,>=0.4.6 in /opt/conda/lib/python3.10/site-packages (from pyasn1-modules>=0.2.1->google-auth<3,>=1.6.3->tensorboard->-r requirements.txt (line 9)) (0.5.1)\r\n",
      "Requirement already satisfied: oauthlib>=3.0.0 in /opt/conda/lib/python3.10/site-packages (from requests-oauthlib>=0.7.0->google-auth-oauthlib<2,>=0.5->tensorboard->-r requirements.txt (line 9)) (3.2.2)\r\n",
      "Downloading pytorch_msssim-1.0.0-py3-none-any.whl (7.7 kB)\r\n",
      "Downloading dahuffman-0.4.1-py2.py3-none-any.whl (18 kB)\r\n",
      "Downloading yaspin-3.0.1-py3-none-any.whl (17 kB)\r\n",
      "Installing collected packages: dahuffman, yaspin, pytorch_msssim\r\n",
      "Successfully installed dahuffman-0.4.1 pytorch_msssim-1.0.0 yaspin-3.0.1\r\n"
     ]
    }
   ],
   "source": [
    "!pip install -r requirements.txt"
   ]
  },
  {
   "cell_type": "code",
   "execution_count": 7,
   "id": "ec1c13a0",
   "metadata": {
    "execution": {
     "iopub.execute_input": "2024-04-02T15:32:36.676082Z",
     "iopub.status.busy": "2024-04-02T15:32:36.675769Z",
     "iopub.status.idle": "2024-04-02T15:32:37.622786Z",
     "shell.execute_reply": "2024-04-02T15:32:37.621630Z"
    },
    "papermill": {
     "duration": 0.961971,
     "end_time": "2024-04-02T15:32:37.625155",
     "exception": false,
     "start_time": "2024-04-02T15:32:36.663184",
     "status": "completed"
    },
    "tags": []
   },
   "outputs": [],
   "source": [
    "mkdir data"
   ]
  },
  {
   "cell_type": "code",
   "execution_count": 8,
   "id": "37a04459",
   "metadata": {
    "execution": {
     "iopub.execute_input": "2024-04-02T15:32:37.650225Z",
     "iopub.status.busy": "2024-04-02T15:32:37.649889Z",
     "iopub.status.idle": "2024-04-02T15:32:38.604073Z",
     "shell.execute_reply": "2024-04-02T15:32:38.602879Z"
    },
    "papermill": {
     "duration": 0.969087,
     "end_time": "2024-04-02T15:32:38.606340",
     "exception": false,
     "start_time": "2024-04-02T15:32:37.637253",
     "status": "completed"
    },
    "tags": []
   },
   "outputs": [
    {
     "name": "stdout",
     "output_type": "stream",
     "text": [
      "\u001b[0m\u001b[01;34mBeauty_1920x1080_30fps_420_8bit_AVC_MP4\u001b[0m/\r\n",
      "Beauty_1920x1080_30fps_420_8bit_AVC_MP4.mp4\r\n",
      "\u001b[01;34mBosphorus_1920x1080_30fps_420_8bit_AVC_MP4\u001b[0m/\r\n",
      "Bosphorus_1920x1080_30fps_420_8bit_AVC_MP4.mp4\r\n",
      "\u001b[01;34mHoneyBee_1920x1080_30fps_420_8bit_AVC_MP4\u001b[0m/\r\n",
      "HoneyBee_1920x1080_30fps_420_8bit_AVC_MP4.mp4\r\n",
      "\u001b[01;34mJockey_1920x1080_30fps_420_8bit_AVC_MP4\u001b[0m/\r\n",
      "Jockey_1920x1080_30fps_420_8bit_AVC_MP4.mp4\r\n",
      "\u001b[01;34mReadySetGo_1920x1080_30fps_420_8bit_AVC_MP4\u001b[0m/\r\n",
      "ReadySetGo_1920x1080_30fps_420_8bit_AVC_MP4.mp4\r\n",
      "\u001b[01;34mShakeNDry_1920x1080_30fps_420_8bit_AVC_MP4\u001b[0m/\r\n",
      "ShakeNDry_1920x1080_30fps_420_8bit_AVC_MP4.mp4\r\n",
      "\u001b[01;34mYachtRide_1920x1080_30fps_420_8bit_AVC_MP4\u001b[0m/\r\n",
      "YachtRide_1920x1080_30fps_420_8bit_AVC_MP4.mp4\r\n"
     ]
    }
   ],
   "source": [
    "ls /kaggle/input/ultra-video-group-uvg"
   ]
  }
 ],
 "metadata": {
  "kaggle": {
   "accelerator": "gpu",
   "dataSources": [
    {
     "datasetId": 3408859,
     "sourceId": 6012910,
     "sourceType": "datasetVersion"
    }
   ],
   "dockerImageVersionId": 30664,
   "isGpuEnabled": true,
   "isInternetEnabled": true,
   "language": "python",
   "sourceType": "notebook"
  },
  "kernelspec": {
   "display_name": "Python 3",
   "language": "python",
   "name": "python3"
  },
  "language_info": {
   "codemirror_mode": {
    "name": "ipython",
    "version": 3
   },
   "file_extension": ".py",
   "mimetype": "text/x-python",
   "name": "python",
   "nbconvert_exporter": "python",
   "pygments_lexer": "ipython3",
   "version": "3.10.13"
  },
  "papermill": {
   "default_parameters": {},
   "duration": 40.371875,
   "end_time": "2024-04-02T15:32:38.836554",
   "environment_variables": {},
   "exception": null,
   "input_path": "__notebook__.ipynb",
   "output_path": "__notebook__.ipynb",
   "parameters": {},
   "start_time": "2024-04-02T15:31:58.464679",
   "version": "2.5.0"
  }
 },
 "nbformat": 4,
 "nbformat_minor": 5
}
